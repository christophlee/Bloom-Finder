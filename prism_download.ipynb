{
 "cells": [
  {
   "cell_type": "code",
   "execution_count": 4,
   "metadata": {},
   "outputs": [],
   "source": [
    "from pyPRISMClimate import get_prism_monthlys, get_prism_monthly_single, get_prism_dailys, get_prism_daily_single, get_prism_normals\n",
    "\n",
    "import os"
   ]
  },
  {
   "cell_type": "code",
   "execution_count": 2,
   "metadata": {},
   "outputs": [],
   "source": [
    "# Create directory structure as needed\n",
    "def make_dirs (dir_path):\n",
    "    dirs = dir_path.rstrip('/').split('/')\n",
    "    curr_path = ''\n",
    "    for d in dirs:\n",
    "        curr_path+=d+'/'\n",
    "        if (os.path.isdir(curr_path) == False):\n",
    "            os.mkdir(curr_path)"
   ]
  },
  {
   "cell_type": "code",
   "execution_count": 20,
   "metadata": {},
   "outputs": [],
   "source": [
    "# download daily mean temp for 2018\n",
    "# tmean completed: years = [2008,2009,2010,2011,2012,2013,2014,2015,2016,2017,2018,2019,2020]\n",
    "# ppt completed: years = [2018,2019,2020]\n",
    "years = [2013,2012,2011,2010,2009,2008]\n",
    "what = ['ppt']#['tmean']\n",
    "\n",
    "for w in what:\n",
    "    for y in years:\n",
    "        dest_path = 'prism/daily/%s/%d/'%(w,y)\n",
    "        make_dirs(dest_path)\n",
    "        get_prism_dailys(w,min_date=('%d-01-01'%y), max_date=('%d-12-31'%y), dest_path=dest_path)"
   ]
  }
 ],
 "metadata": {
  "kernelspec": {
   "display_name": "Python 3",
   "language": "python",
   "name": "python3"
  },
  "language_info": {
   "codemirror_mode": {
    "name": "ipython",
    "version": 3
   },
   "file_extension": ".py",
   "mimetype": "text/x-python",
   "name": "python",
   "nbconvert_exporter": "python",
   "pygments_lexer": "ipython3",
   "version": "3.7.4"
  }
 },
 "nbformat": 4,
 "nbformat_minor": 2
}
